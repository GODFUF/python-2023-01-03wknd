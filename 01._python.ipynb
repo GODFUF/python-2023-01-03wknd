{
 "cells": [
  {
   "cell_type": "code",
   "execution_count": null,
   "metadata": {},
   "outputs": [],
   "source": [
    "# 변수 선언\n",
    "a = 10\n",
    "b = \"test\"\n",
    "\n",
    "# 변수 출력\n",
    "print(a)\n",
    "print(type(a))\n",
    "\n",
    "print(b)\n",
    "print(type(b))\n"
   ]
  },
  {
   "cell_type": "code",
   "execution_count": null,
   "metadata": {},
   "outputs": [],
   "source": [
    "a = \"test2\"\n",
    "print(a)"
   ]
  },
  {
   "cell_type": "code",
   "execution_count": null,
   "metadata": {},
   "outputs": [],
   "source": [
    "# 참고로 ctrl누르고 +, - 누르면 폰트크기조절됨\n",
    "\n",
    "## 불형 데이터\n",
    "# 참과 거짓의 형태\n",
    "a = True\n",
    "print(type(a))"
   ]
  },
  {
   "cell_type": "code",
   "execution_count": null,
   "metadata": {},
   "outputs": [],
   "source": [
    "b = (100 > 10)\n",
    "c = (100 < 10)\n",
    "d = (100 == 100)\n",
    "print(b, c, d)"
   ]
  },
  {
   "cell_type": "code",
   "execution_count": null,
   "metadata": {},
   "outputs": [],
   "source": [
    "## 산술 연산자\n",
    "# 기본적인 사칙연산\n",
    "a = 7\n",
    "b = 3\n",
    "\n",
    "print(a+b, a-b, a*b, a/b, a//b, a%b, a**b)"
   ]
  },
  {
   "cell_type": "code",
   "execution_count": null,
   "metadata": {},
   "outputs": [],
   "source": [
    "c = 2\n",
    "print(a+b*c)\n",
    "print((a+b)*c)"
   ]
  },
  {
   "cell_type": "code",
   "execution_count": null,
   "metadata": {},
   "outputs": [],
   "source": [
    "# 대입연산자\n",
    "a += 5  # a = a+5와 같음\n",
    "print(a) # 따라서 이 셀을 계속 실행해보면 a값이 계속 증가됨"
   ]
  },
  {
   "attachments": {},
   "cell_type": "markdown",
   "metadata": {},
   "source": [
    "### 막간 마크다운 예시\n",
    "- 가나다"
   ]
  },
  {
   "cell_type": "code",
   "execution_count": null,
   "metadata": {},
   "outputs": [],
   "source": [
    "#마크다운은 샵의 개수에 따라 글자 크기 달라짐. 최소1개~최소3개\n",
    "#마크다운인지 파이썬인지는 셀 오른쪽 아래에 보인다\n",
    "\n",
    "## 조건문\n",
    "# if문\n",
    "a = 5\n",
    "\n",
    "if a < 10:\n",
    "    print(\"a는 10보다 작다\")   #a를 10이상으로 바꾸면 값이 안나옴 false기 때문"
   ]
  },
  {
   "cell_type": "code",
   "execution_count": null,
   "metadata": {},
   "outputs": [],
   "source": [
    "# if ~ else문\n",
    "a = 20\n",
    "\n",
    "if a < 10:\n",
    "    print(\"a는 10보다 작다\")\n",
    "else:\n",
    "    print(\"a는 10보다 크거나 같다\")"
   ]
  },
  {
   "cell_type": "code",
   "execution_count": null,
   "metadata": {},
   "outputs": [],
   "source": [
    "# if ~ else ~ else문\n",
    "score = int(input(\"점수를 입력하세요 : \"))\n",
    "#score = input(\"점수를 입력하세요 : \")로 하면 그냥 문자형태로나옴 - 문자형태는 크기비교를 할 수 없음\n",
    "print(score)\n",
    "print(type(score))\n",
    "if score >= 90:\n",
    "    print(\"A\")\n",
    "elif score >= 80:\n",
    "    print(\"B\")\n",
    "elif score >=70:\n",
    "    print(\"C\")\n",
    "else :\n",
    "    print(\"F\")\n",
    "\n",
    "print(\"프로그램 종료\")"
   ]
  },
  {
   "cell_type": "code",
   "execution_count": null,
   "metadata": {},
   "outputs": [],
   "source": [
    "## 반복문\n",
    "# for문\n",
    "for i in range(0,10,1):\n",
    "    print(\"%d 번쨰 반복\" %i)"
   ]
  },
  {
   "cell_type": "code",
   "execution_count": null,
   "metadata": {},
   "outputs": [],
   "source": [
    "for i in range(10):\n",
    "    print(\"%d 번째 반복\" %i)\n",
    "\n",
    "# 이렇게 해도 똑같이 나오는데 처음 배우는 단계에선 위에처럼 하는게 좋음"
   ]
  },
  {
   "cell_type": "code",
   "execution_count": null,
   "metadata": {},
   "outputs": [],
   "source": [
    "## 1부터 10까지의 합계\n",
    "# for문 사용\n",
    "\n",
    "# 합계 변수 생성\n",
    "sum = 0\n",
    "\n",
    "for t in range(1,11,1):\n",
    "    sum += t\n",
    "    # sum = sum + t와 같다\n",
    "\n",
    "print(sum)\n",
    "    #print(sum) 이렇게 들여쓰기 하고서 실행하면 다르게 나타남 한번 해보셈\n"
   ]
  },
  {
   "cell_type": "code",
   "execution_count": null,
   "metadata": {},
   "outputs": [],
   "source": [
    "## 다중 for문\n",
    "# 구구단 만들기\n",
    "\n",
    "for i in range(2, 10, 1):\n",
    "    print(str(i)+\"단\") #이거 말고 %d이용해도 됨\n",
    "    for j in range(1, 10, 1):\n",
    "        print(str(i) + \"X\" + str(j) + \"=\" + str(i*j))\n",
    "        #print(\"%d X %d = %d\"%(i, j, i*j)) 써도 됨"
   ]
  },
  {
   "cell_type": "code",
   "execution_count": null,
   "metadata": {},
   "outputs": [],
   "source": [
    "## for문 예제\n",
    "# 1부터 100까지의 숫자중에 짝수의 합계\n",
    "# 힌트 : 1부터 100까지 반복\n",
    "# if 조건식을 사용해서 짝수인 경우에만 +하기\n",
    "\n",
    "# 내가 푼 것\n",
    "sum = 0\n",
    "for i in range(1,101,1): #(a,b,c에서 c는 c씩 증가시키겠단거임)\n",
    "    if i%2 == 0:\n",
    "        sum += i\n",
    "    else:\n",
    "        sum == 0\n",
    "print(sum)\n",
    "\n",
    "\n",
    "#강사님 정답\n",
    "#합계 변수 생성\n",
    "sum = 0\n",
    "#반복문 생성\n",
    "for i in range(1,101,1):\n",
    "    if i % 2 == 0:\n",
    "        sum += i\n",
    "\n",
    "print(sum)\n",
    "\n",
    "\n",
    "#다른 방법\n",
    "sum = 0\n",
    "for i in range(2, 101, 2):\n",
    "    sum += i\n",
    "print(sum)"
   ]
  },
  {
   "cell_type": "code",
   "execution_count": null,
   "metadata": {},
   "outputs": [],
   "source": [
    "## 다중 for문\n",
    "# 2개의 주사위를 굴려서 두 주사위의 합이 5가 되는 주사위의 값\n",
    "#정답\n",
    "for i in range(1, 7, 1):\n",
    "    for j in range(1, 7, 1):\n",
    "        if i + j == 5:\n",
    "            print(i, j)"
   ]
  },
  {
   "cell_type": "code",
   "execution_count": null,
   "metadata": {},
   "outputs": [],
   "source": [
    "## while문\n",
    "\n",
    "#초기값 지정\n",
    "i = 0\n",
    "\n",
    "#while문 시작\n",
    "while i < 10:\n",
    "    print(i)\n",
    "    i += 1\n",
    "    #만약 print(i)가 윗에 있는 줄이 아니라 여기서 시작하면 결과값이 1부터 시작 ->>> 완전 결과값이 다르게 나옴!!!"
   ]
  },
  {
   "cell_type": "code",
   "execution_count": null,
   "metadata": {},
   "outputs": [],
   "source": [
    "## break문\n",
    "for i in range(1, 101, 1):\n",
    "    print(\"%d 번째 반복\"%i)\n",
    "    if i ==5:\n",
    "        break\n",
    "    #만약 print(\"%d 번째 반복\"%i) 가 여기서 나오면 5번째 반복은 나오지 않음. break가 그 전에 걸렸기 때문 ->>> 이처럼 파이썬은 한줄한줄씩 실행되는게 특징"
   ]
  },
  {
   "cell_type": "code",
   "execution_count": null,
   "metadata": {},
   "outputs": [],
   "source": [
    "## 1부터 100까지 합계를 구하는 중 합계가 500이 넘어갈때 숫자와 합계의 값\n",
    "\n",
    "sum = 0\n",
    "\n",
    "for i in range(1, 101, 1):\n",
    "    sum += i\n",
    "    if sum >= 500 :\n",
    "        break\n",
    "\n",
    "print('합계가 500 이상이 되는 범위의 숫자', i, '합계는', sum)\n",
    "    \n"
   ]
  },
  {
   "cell_type": "code",
   "execution_count": null,
   "metadata": {},
   "outputs": [],
   "source": [
    "#위 예시와 같은 형태를 if문이 아닌 while문으로 만들어보기\n",
    "\n",
    "sum = 0 #sum을 초기화하는거임. 초기값을 0으로 설정하는거\n",
    "i = 1\n",
    "\n",
    "while i <= 100:\n",
    "    sum += i\n",
    "    if sum >= 500:\n",
    "        break\n",
    "    i += 1\n",
    "\n",
    "print('합계가 500 이상이 되는 범위의 숫자', i, '합계는', sum)"
   ]
  },
  {
   "cell_type": "code",
   "execution_count": null,
   "metadata": {},
   "outputs": [],
   "source": [
    "## continue문\n",
    "for i in range(1, 10, 1):\n",
    "    #print(\"%d 번째 반복\"%i)가 여기있으면 그냥 1부터 9까지 다나옴... 여기다 프린트하면 마지막 컨티뉴가 아무의미없는 쓸데없는코드가 된다\n",
    "    if i <=3:\n",
    "        continue\n",
    "    print(\"%d 번째 반복\"%i)"
   ]
  },
  {
   "cell_type": "code",
   "execution_count": null,
   "metadata": {},
   "outputs": [],
   "source": [
    "# 1부터 100까지의 짝수의 합계 continue문 사용해서 구해보기\n",
    "sum = 0\n",
    "\n",
    "for i in range(1, 101, 1):\n",
    "    if i % 2 == 1:\n",
    "        continue\n",
    "    sum += i\n",
    "\n",
    "print(sum)"
   ]
  },
  {
   "cell_type": "code",
   "execution_count": null,
   "metadata": {},
   "outputs": [],
   "source": [
    "## 튜플\n",
    "a = (1, 'Hello')\n",
    "b = (3, 3.14)\n",
    "c = a + b\n",
    "d = a * 3\n",
    "e = a[1]  #a[k]는 a에서 k+1번째 항목?을 나타내는것\n",
    "\n",
    "print(a, b, c, d, e)"
   ]
  },
  {
   "cell_type": "code",
   "execution_count": null,
   "metadata": {},
   "outputs": [],
   "source": [
    "# 위 예시에서 숫자 1만 출력하고 싶으면?\n",
    "print(a[0])"
   ]
  },
  {
   "cell_type": "code",
   "execution_count": null,
   "metadata": {},
   "outputs": [],
   "source": [
    "a = (10, 20, 30, 40)\n",
    "\n",
    "#20과 30만 출력하기\n",
    "print(a[1:3])  #a[x,y] 이면 a에서 x+1번째부터 y-1번째까지\n",
    "\n",
    "#30, 40을 출력하려면?\n",
    "print(a[2:]) #a[] 앞이나 뒤 비우면 1번째나 끝번째"
   ]
  },
  {
   "cell_type": "code",
   "execution_count": null,
   "metadata": {},
   "outputs": [],
   "source": [
    "## list 형태 데이터\n",
    "a = [20,10,50,5]\n",
    "b = [10,20,30,40]"
   ]
  },
  {
   "cell_type": "code",
   "execution_count": null,
   "metadata": {},
   "outputs": [],
   "source": [
    "## sort() -> 오름차순 정렬로 변경\n",
    "a.sort()\n",
    "print(a)"
   ]
  },
  {
   "cell_type": "code",
   "execution_count": null,
   "metadata": {},
   "outputs": [],
   "source": [
    "## reverse() -> 역순으로 정렬을 변경\n",
    "b.reverse()\n",
    "print(b)"
   ]
  },
  {
   "cell_type": "code",
   "execution_count": null,
   "metadata": {},
   "outputs": [],
   "source": [
    "## append() -> 리스트의 마지막에 항목 추가\n",
    "a.append(22)\n",
    "print(a)"
   ]
  },
  {
   "cell_type": "code",
   "execution_count": null,
   "metadata": {},
   "outputs": [],
   "source": [
    "## 리스트의 특징\n",
    "a = []\n",
    "print(a)\n",
    "\n",
    "a.append(10)\n",
    "print(a)"
   ]
  },
  {
   "cell_type": "code",
   "execution_count": null,
   "metadata": {},
   "outputs": [],
   "source": [
    "## 1부터 70까지 숫자들중에 3의 배수를 리스트로 만들어서 출력해보자\n",
    "\n",
    "# 먼저 비어있는 리스트 생성\n",
    "k =[]\n",
    "\n",
    "# 1부터 70까지 반복\n",
    "for i in range(1, 71, 1):\n",
    "    #3의 배수 조건식\n",
    "    if i % 3 == 0:\n",
    "        k.append(i)\n",
    "\n",
    "print(k)"
   ]
  },
  {
   "cell_type": "code",
   "execution_count": null,
   "metadata": {},
   "outputs": [],
   "source": [
    "# range는 일종의 리스트를 만들어주는것\n",
    "for i in [5,7,10]:\n",
    "    print(i)"
   ]
  },
  {
   "cell_type": "code",
   "execution_count": null,
   "metadata": {},
   "outputs": [],
   "source": [
    "# 위에서 만들어본 리스트 k의 항목들을 다 더한값은 몇인지 구해보기 - 와 이거 설명하기 전에 맞춤!\n",
    "sum = 0\n",
    "for i in k:\n",
    "    sum += i\n",
    "\n",
    "print(sum)"
   ]
  },
  {
   "cell_type": "code",
   "execution_count": null,
   "metadata": {},
   "outputs": [],
   "source": [
    "## dictionary\n",
    "## 사전형 데이터\n",
    "## {key1 : value1, key2 : value2, ...} 형태\n",
    "dict = {\n",
    "    \"name\" : \"test\",\n",
    "    \"age\" : 20,\n",
    "    \"phone\" : \"01012345678\" #전화번호에 따옴표 쓰는 이유 -> 안그러면 0이 짤림. 컴퓨터가 숫자글로 인식안하고 컴퓨터그거로 인식해서\n",
    "}\n",
    "\n",
    "print(dict[\"name\"])"
   ]
  },
  {
   "cell_type": "code",
   "execution_count": null,
   "metadata": {},
   "outputs": [],
   "source": [
    "# 새로운 key : value를 대입\n",
    "dict['area'] = \"seoul\"\n",
    "\n",
    "print(dict)"
   ]
  },
  {
   "cell_type": "code",
   "execution_count": null,
   "metadata": {},
   "outputs": [],
   "source": [
    "## Database\n",
    "# 데이타베이스 형태 예시로 대표적으로 엑셀이 있음\n",
    "\n",
    "# Database에서 데이터를 받아올 때 데이터의 형태\n",
    "# [ {}, {}, {}]\n",
    "\n",
    "\n",
    "test_data = [\n",
    "    {\n",
    "        \"name\" : \"test1\",\n",
    "        \"age\" : 20\n",
    "    },\n",
    "    {\n",
    "        \"name\" : \"test2\",\n",
    "        \"age\" : 30\n",
    "    },\n",
    "    {\n",
    "        \"name\" : \"test3\",\n",
    "        \"age\" : 40\n",
    "    }\n",
    "]\n"
   ]
  },
  {
   "cell_type": "code",
   "execution_count": null,
   "metadata": {},
   "outputs": [],
   "source": [
    "# 위 예시에서 test1만 뽑아보기\n",
    "# 힌트 대괄호는 list?이고 중괄호는 dictionary -> 대괄호를 먼저 없애고 중괄호를 없애기 (차근차근 괄호 없애기)\n",
    "#        ㄴ녹음파일184번 50분정도 이후에 나올듯 \n",
    "print(test_data[0])\n",
    "\n",
    "print(test_data[0]['name'])"
   ]
  },
  {
   "cell_type": "code",
   "execution_count": null,
   "metadata": {},
   "outputs": [],
   "source": [
    "#test_data에서 name의 값들만 리스트의 형태로 출력\n",
    "name_list = []\n",
    "\n",
    "for i in test_data:\n",
    "    name_list.append(i[\"name\"])\n",
    "\n",
    "print(name_list)"
   ]
  },
  {
   "cell_type": "code",
   "execution_count": null,
   "metadata": {},
   "outputs": [],
   "source": [
    "# 위 예제 다른 방법\n",
    "name_list = []\n",
    "\n",
    "for i in range(0, 3, 1):   # 여기서 3 대신 len(test_data)를 집어넣어도 됨. 아니 사실 len함수 넣는게 정석인듯\n",
    "    name_list.append(test_data[i]['name'])\n",
    "    \n",
    "print(name_list)"
   ]
  },
  {
   "cell_type": "code",
   "execution_count": null,
   "metadata": {},
   "outputs": [],
   "source": [
    "## 문자열 내장 함수\n",
    "\n",
    "## 대문자, 소문자 변환\n",
    "## upper(), lower()\n",
    "text = \"Hello World\"\n",
    "print(text.upper())\n",
    "print(text.lower())"
   ]
  },
  {
   "cell_type": "code",
   "execution_count": null,
   "metadata": {},
   "outputs": [],
   "source": [
    "text = \"     Hello World     \"\n",
    "print(text)\n",
    "\n",
    "# 데이터 출력할땐 공백 있는지 없는지 확인하기 어려움 이 때 \n",
    "## 공백 제거 함수\n",
    "## strip() : 양쪽의 공백 제거\n",
    "## lstrip() : 왼쪽의 공백 제거\n",
    "## rstrip() : 오른쪽의 공백 제거\n",
    "print(text.strip())\n",
    "print(text.lstrip())\n",
    "print(text.rstrip())"
   ]
  },
  {
   "cell_type": "code",
   "execution_count": null,
   "metadata": {},
   "outputs": [],
   "source": [
    "## 선택 문자열 변경\n",
    "## replace()\n",
    "# 공백 제거하는데도 사용이 가능 -> 예시로 Hello World 사이에 공백 제거\n",
    "\n",
    "text.replace(\" \", \"\")"
   ]
  },
  {
   "cell_type": "code",
   "execution_count": null,
   "metadata": {},
   "outputs": [],
   "source": [
    "text.replace(\"Hello\", \"Hi\")"
   ]
  },
  {
   "cell_type": "code",
   "execution_count": null,
   "metadata": {},
   "outputs": [],
   "source": [
    "## split()\n",
    "# 기준이 되는 문자열이나 , . / 같은 특수문자열을 기준으로 문자열을 나눠주는 열할\n",
    "a = \"a,b,c,d,e\"\n",
    "print(a)"
   ]
  },
  {
   "cell_type": "code",
   "execution_count": null,
   "metadata": {},
   "outputs": [],
   "source": [
    "a.split(\",\")"
   ]
  },
  {
   "cell_type": "code",
   "execution_count": null,
   "metadata": {},
   "outputs": [],
   "source": [
    "## 함수 - 프로그래밍 짤때 가장 어렵고 재밌는 중요 파트 중 하나\n",
    "\n",
    "#매개변수가 존재하지 않는 함수 생성\n",
    "def func_1():\n",
    "    return \"Hello World\""
   ]
  },
  {
   "cell_type": "code",
   "execution_count": null,
   "metadata": {},
   "outputs": [],
   "source": [
    "print(func_1())\n",
    "print(func_1())\n",
    "print(func_1())"
   ]
  },
  {
   "cell_type": "code",
   "execution_count": null,
   "metadata": {},
   "outputs": [],
   "source": [
    "## 매개변수가 존재하는 함수 생성\n",
    "def func_2(x, y):\n",
    "    result = x + y\n",
    "    return result"
   ]
  },
  {
   "cell_type": "code",
   "execution_count": null,
   "metadata": {},
   "outputs": [],
   "source": [
    "print(func_2(5,3))\n",
    "print(func_2(1,3))\n",
    "print(func_2(10,4))"
   ]
  },
  {
   "cell_type": "code",
   "execution_count": null,
   "metadata": {},
   "outputs": [],
   "source": [
    "#일부러 만든 에러함수\n",
    "# func_2(1)\n",
    "\n",
    "# 에러가 날때 어디서 에러가 낫다는지 잘 확인하자 -> 나중에 라이브러리에 있는 함수 가져와서 쓸때 에러 나는 경우 있는데, 그때 어디서 에러났는지 잘 보고서 고치자"
   ]
  },
  {
   "cell_type": "code",
   "execution_count": null,
   "metadata": {},
   "outputs": [],
   "source": [
    "## 매개변수에 기본값을 정의\n",
    "def func_3(x, y = 3):\n",
    "    result = x + y\n",
    "    return result\n",
    "\n",
    "print(func_3(5, 1)) #여기서 1은 y=3이 위에서 있지만 인자값을 y=1로 바꾼거임\n",
    "print(func_3(3)) #이건 위에 셀과 다르게 이미 y=3으로 놨기 때문에 x값 인자만 넣어도 에러안남"
   ]
  },
  {
   "cell_type": "code",
   "execution_count": null,
   "metadata": {},
   "outputs": [],
   "source": [
    "#def func_3_2(x = 3, y): #이거 주석 빼면 y에 빨간 밑줄 그어짐\n",
    "    #코드칠때 빨간줄뜨면 그부분이 틀렸다는 표시임\n",
    "    #이건 위 셀에서 y값 지정한거와 다르게 틀렸다고 하는 이유는 기본값은 뒤에거부터 지정해서 채울수 있기때문. 따라서 앞에있는 x값만 지정하면 그냥 에러나는 코드됨.\n"
   ]
  },
  {
   "cell_type": "code",
   "execution_count": null,
   "metadata": {},
   "outputs": [],
   "source": [
    "def func_4(x, y):\n",
    "    result = x ** y\n",
    "    return result\n",
    "\n",
    "print(func_4(5, 2))\n",
    "print(func_4(y=5, x=2))"
   ]
  },
  {
   "cell_type": "code",
   "execution_count": 197,
   "metadata": {},
   "outputs": [
    {
     "data": {
      "text/plain": [
       "10"
      ]
     },
     "execution_count": 197,
     "metadata": {},
     "output_type": "execute_result"
    }
   ],
   "source": [
    "##함수 예제\n",
    "# 1. 함수를 하나 생성 매개변수 2개 (x, y)\n",
    "# 2. 함수가 하는 행동 (x부터 y까지의 합을 리턴) - for/while문\n",
    "# 3. x보다 y가 작은 경우에는 x부터 y까지의 합, 반대인 경우에는 y부터 x까지의 합\n",
    "\n",
    "# 내가 푼 방법 - 강사님이 ok함!!\n",
    "#2번\n",
    "def func_d1(x, y):\n",
    "    sum = 0\n",
    "    for i in range(x, y+1, 1):\n",
    "        sum += i\n",
    "    return sum\n",
    "#3번\n",
    "def func_d2(x, y):\n",
    "    sum = 0\n",
    "    if x < y:\n",
    "        for i in range(x, y+1, 1):\n",
    "            sum += i\n",
    "    else:\n",
    "        for i in range(y, x+1, 1):\n",
    "            sum += i\n",
    "    return sum\n",
    "\n",
    "func_d2(4,1)"
   ]
  },
  {
   "cell_type": "code",
   "execution_count": 204,
   "metadata": {},
   "outputs": [
    {
     "name": "stdout",
     "output_type": "stream",
     "text": [
      "10\n",
      "0\n"
     ]
    }
   ],
   "source": [
    "# 강사님 2번 정답 - 참고로 정답 방법은 여러개임 - for문 이용한 방법(내거랑 똑같음)\n",
    "def func_5(x, y):\n",
    "    f_sum = 0  #sum으로 써도 되는데 그냥 오늘 sum 너무 많이 써서 f_sum으로 써봄\n",
    "    for i in range(x, y+1, 1):\n",
    "        f_sum += i\n",
    "    return f_sum\n",
    "\n",
    "print(func_5(1,4))\n",
    "#print(f_sum) - 얘는 오류남. 왜? 함수 안에서 선언한 변수는 그 함수 안에서만 사용가능 (지역변수라 함 ->  반대로 어디든 사용가능한걸 전역변수라 함)\n",
    "print(func_5(10,1)) # 얘는 0으로 나오는 이유가 x가 10부터 시작하니 그냥 바로 끝나버리는거임 그래서 3번문제처럼 함수에 조건 달아서 바꿔야함"
   ]
  },
  {
   "cell_type": "code",
   "execution_count": 205,
   "metadata": {},
   "outputs": [
    {
     "name": "stdout",
     "output_type": "stream",
     "text": [
      "55\n"
     ]
    }
   ],
   "source": [
    "# 강사님 2번 정답 - while문 이용\n",
    "def func_6(x,y):\n",
    "    f_sum = 0\n",
    "    while x <= y :\n",
    "        f_sum += x\n",
    "        x += 1\n",
    "    return f_sum\n",
    "\n",
    "print(func_6(1, 10))"
   ]
  },
  {
   "cell_type": "code",
   "execution_count": 206,
   "metadata": {},
   "outputs": [
    {
     "name": "stdout",
     "output_type": "stream",
     "text": [
      "55\n"
     ]
    }
   ],
   "source": [
    "# 강사님 3번 정답 - for문 이용 - 내거랑 똑같음\n",
    "def func_7(x, y):\n",
    "    f_sum = 0\n",
    "    ## x가 y보다 작은 경우\n",
    "    if x < y :\n",
    "        for i in range(x, y+1, 1):\n",
    "            f_sum += i\n",
    "    else:\n",
    "        for i in range(y, x+1, 1):\n",
    "            f_sum += i\n",
    "    return f_sum\n",
    "\n",
    "\n",
    "print(func_7(1,10))\n",
    "print(func_7(10,1))"
   ]
  },
  {
   "cell_type": "code",
   "execution_count": 210,
   "metadata": {},
   "outputs": [
    {
     "name": "stdout",
     "output_type": "stream",
     "text": [
      "55\n",
      "55\n"
     ]
    }
   ],
   "source": [
    "# if문 써서 하니까 코드가 너무 길어져! -> if문 안쓰고 풀어봄\n",
    "# 강사님 3번 정답 - if문 사용 안하는 방법 - 미니멈, 맥시멈 사용\n",
    "def func_8(x, y):\n",
    "    f_sum = 0\n",
    "    for i in range(min(x, y), max(x, y)+1, 1):\n",
    "        f_sum += i\n",
    "    return f_sum\n",
    "\n",
    "print(func_8(10,1))\n",
    "print(func_8(1,10))"
   ]
  },
  {
   "cell_type": "code",
   "execution_count": 216,
   "metadata": {},
   "outputs": [
    {
     "name": "stdout",
     "output_type": "stream",
     "text": [
      "합\n",
      "차\n",
      "연산식이 잘못되었습니다.\n"
     ]
    }
   ],
   "source": [
    "## 함수 예제\n",
    "# 1. 함수 생성 (매개변수 3개 x, y, z)\n",
    "# 2. z의 값이 '합' x+y 리턴\n",
    "# 3. z의 값이 '차' x-y 리턴\n",
    "# 4. z의 값이 둘 다 아니면 '연산식이 잘못되었습니다.' 리턴\n",
    "\n",
    "#내가 푼 버전 - 문제 자체를 잘못 이해했음 ㅋㅋㅋ;;\n",
    "def func_d3(x, y, z):\n",
    "    if z == x + y:\n",
    "        print('합')\n",
    "    elif z == x - y:\n",
    "        print('차')\n",
    "    else:\n",
    "        print('연산식이 잘못되었습니다.')\n",
    "\n",
    "func_d3(1,3,4)\n",
    "func_d3(3,2,1)\n",
    "func_d3(1,3,7)"
   ]
  },
  {
   "cell_type": "code",
   "execution_count": 225,
   "metadata": {},
   "outputs": [
    {
     "name": "stdout",
     "output_type": "stream",
     "text": [
      "4\n",
      "-2\n",
      "연산식이 잘못되었습니다.\n",
      "4\n",
      "-2\n",
      "연산식이 잘못되었습니다.\n"
     ]
    }
   ],
   "source": [
    "# 강사님 정답 - 보통 수강생들이 처음 하는 버전\n",
    "def func_9(x, y, z):\n",
    "    if z == '합':\n",
    "        return x+y\n",
    "    elif z == '차':\n",
    "        return x-y\n",
    "    else:\n",
    "        return \"연산식이 잘못되었습니다.\"\n",
    "\n",
    "print(func_9(1,3,'합'))\n",
    "print(func_9(1,3,'차'))\n",
    "print(func_9(1,3,'곱'))\n",
    "\n",
    "# 강사님 정답 - elif, else 안써도 된다!\n",
    "def func_9(x, y, z):\n",
    "    if z == '합':\n",
    "        return x+y\n",
    "    if z == '차':\n",
    "        return x-y\n",
    "    \n",
    "    return \"연산식이 잘못되었습니다.\"\n",
    "\n",
    "print(func_9(1,3,'합'))\n",
    "print(func_9(1,3,'차'))\n",
    "print(func_9(1,3,'곱'))"
   ]
  },
  {
   "cell_type": "code",
   "execution_count": 226,
   "metadata": {},
   "outputs": [
    {
     "name": "stdout",
     "output_type": "stream",
     "text": [
      "4\n",
      "-2\n",
      "연산식이 잘못되었습니다.\n"
     ]
    }
   ],
   "source": [
    "# 강사님 정답 - 또다른 방법\n",
    "def func_10(x, y, z):\n",
    "    if z == '합':\n",
    "        result = x + y\n",
    "    elif z == '차':\n",
    "        result = x - y\n",
    "    else :\n",
    "        result = '연산식이 잘못되었습니다.'\n",
    "    return result\n",
    "\n",
    "print(func_10(1,3,'합'))\n",
    "print(func_10(1,3,'차'))\n",
    "print(func_10(1,3,'곱'))\n",
    "\n",
    "\n",
    "#코딩할때 팁 : alt키 누르고 단어 선택하면 그 단어는 모두 동시에 수정 가능\n",
    "\n",
    "# 정답이 여러가진데 우린 뭘 써야하나 -> 협동해서 할때는 그냥 한가지 방법으로 통일한 그걸 쓰면 됨!!"
   ]
  },
  {
   "cell_type": "code",
   "execution_count": 229,
   "metadata": {},
   "outputs": [
    {
     "name": "stdout",
     "output_type": "stream",
     "text": [
      "[1, 4, 9, 16]\n"
     ]
    }
   ],
   "source": [
    "######\n",
    "\n",
    "def func_11(x):\n",
    "    result = x ** 2\n",
    "    return result\n",
    "\n",
    "k = [1,2,3,4]\n",
    "\n",
    "## map 함수의 기능을 풀어서 써짐\n",
    "result = []\n",
    "\n",
    "for i in k:\n",
    "    result.append(func_11(i))\n",
    "print(result)"
   ]
  },
  {
   "cell_type": "code",
   "execution_count": 230,
   "metadata": {},
   "outputs": [
    {
     "name": "stdout",
     "output_type": "stream",
     "text": [
      "[1, 4, 9, 16]\n"
     ]
    }
   ],
   "source": [
    "## map 함수\n",
    "result_2 = list(map(func_11, k)) #리스트 k에 있는 숫자 하나하나를 func_11에 넣어본 값을 리스트로 만들겠다\n",
    "print(result_2)"
   ]
  },
  {
   "cell_type": "code",
   "execution_count": 231,
   "metadata": {},
   "outputs": [
    {
     "name": "stdout",
     "output_type": "stream",
     "text": [
      "16\n"
     ]
    }
   ],
   "source": [
    "## 람다 함수\n",
    "lamb = lambda x: x**2\n",
    "print(lamb(4))"
   ]
  },
  {
   "cell_type": "code",
   "execution_count": 233,
   "metadata": {},
   "outputs": [
    {
     "data": {
      "text/plain": [
       "[1, 4, 9, 16]"
      ]
     },
     "execution_count": 233,
     "metadata": {},
     "output_type": "execute_result"
    }
   ],
   "source": [
    "# 람다 함수도 map함수 이용가능\n",
    "list(map(lamb, k))\n",
    "\n",
    "# 이것들을 쓰는 이유는 뭐? ->>> 개발자들이 어떻게든 코드 한줄이라도 줄이려고"
   ]
  },
  {
   "cell_type": "code",
   "execution_count": 234,
   "metadata": {},
   "outputs": [],
   "source": [
    "# 나중에 판다스 할때 print() 쓰면 오히려 결과가 더 안이쁘게 나올때가 많음. 지금도 함수결과볼때 프린트 안써도 나오기도 하고 여러 이유로 강사님도 print() 잘 안쓰게 된다고 함 나중에는."
   ]
  },
  {
   "cell_type": "code",
   "execution_count": null,
   "metadata": {},
   "outputs": [],
   "source": []
  }
 ],
 "metadata": {
  "kernelspec": {
   "display_name": "Python 3",
   "language": "python",
   "name": "python3"
  },
  "language_info": {
   "codemirror_mode": {
    "name": "ipython",
    "version": 3
   },
   "file_extension": ".py",
   "mimetype": "text/x-python",
   "name": "python",
   "nbconvert_exporter": "python",
   "pygments_lexer": "ipython3",
   "version": "3.11.1"
  },
  "orig_nbformat": 4,
  "vscode": {
   "interpreter": {
    "hash": "d83fa9b78f6d32ae369e3b25d0bdfb8546935a326f61d3bc2625644343d73d1f"
   }
  }
 },
 "nbformat": 4,
 "nbformat_minor": 2
}
